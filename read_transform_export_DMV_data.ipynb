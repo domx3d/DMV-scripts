{
 "cells": [
  {
   "cell_type": "code",
   "execution_count": 1,
   "metadata": {},
   "outputs": [],
   "source": [
    "import os\n",
    "import numpy as np\n",
    "import glob\n",
    "import pandas as pd\n",
    "from pyproj import Transformer"
   ]
  },
  {
   "cell_type": "code",
   "execution_count": 2,
   "metadata": {
    "tags": []
   },
   "outputs": [],
   "source": [
    "# Podatki o nadmorski višini (digitalni model višin) so na voljo na https://ipi.eprostor.gov.si/jgp/data\n",
    "def read_dmv_data_files(root):\n",
    "    data = []\n",
    "    for file_path in glob.iglob(f\"{root}/**/*.xyz\", recursive=True):\n",
    "        with open(file_path, \"r\") as f:\n",
    "            file_data = []\n",
    "            for row in f:\n",
    "                file_data.append([float(el) for el in row.split(\" \")])\n",
    "            data.append(np.array(file_data))\n",
    "\n",
    "        print(f\"{file_path} processed.\")\n",
    "    \n",
    "    return np.concatenate(data, axis=0)"
   ]
  },
  {
   "cell_type": "code",
   "execution_count": 52,
   "metadata": {
    "tags": []
   },
   "outputs": [],
   "source": [
    "def transform_coords(data):\n",
    "    df = pd.DataFrame(data, columns=[\"x\", \"y\", \"z\"])\n",
    "    transformer = Transformer.from_crs(\"EPSG:3794\", \"epsg:4326\")\n",
    "    \n",
    "    # Počasno na večjih količinah podatkov\n",
    "    df[\"Lat\"] = df.apply(lambda row: transformer.transform(getattr(row, \"x\"), getattr(row, \"y\"))[0], axis=1)\n",
    "    df[\"Lon\"] = df.apply(lambda row: transformer.transform(getattr(row, \"x\"), getattr(row, \"y\"))[1], axis=1)\n",
    "    \n",
    "    return df\n",
    "    \n",
    "\n",
    "def bbox_slice(df, bbox):\n",
    "    np.save(\n",
    "        \"data.npy\",\n",
    "        df.loc[\n",
    "            (df.Lat >= bbox[0]) & \n",
    "            (df.Lat <= bbox[1]) & \n",
    "            (df.Lon >= bbox[2]) & \n",
    "            (df.Lon <= bbox[3])\n",
    "        ][[\"x\", \"y\", \"z\"]].to_numpy()\n",
    "    )\n",
    "    \n",
    "    return np.load(\"data.npy\")"
   ]
  },
  {
   "cell_type": "code",
   "execution_count": 59,
   "metadata": {
    "tags": []
   },
   "outputs": [
    {
     "name": "stdout",
     "output_type": "stream",
     "text": [
      "data/DMV0050_SZ/C08\\VTC0801.xyz processed.\n",
      "data/DMV0050_SZ/C08\\VTC0802.xyz processed.\n",
      "data/DMV0050_SZ/C08\\VTC0803.xyz processed.\n",
      "data/DMV0050_SZ/C08\\VTC0804.xyz processed.\n",
      "data/DMV0050_SZ/C08\\VTC0805.xyz processed.\n",
      "data/DMV0050_SZ/C08\\VTC0806.xyz processed.\n",
      "data/DMV0050_SZ/C08\\VTC0807.xyz processed.\n",
      "data/DMV0050_SZ/C08\\VTC0808.xyz processed.\n",
      "data/DMV0050_SZ/C08\\VTC0809.xyz processed.\n",
      "data/DMV0050_SZ/C08\\VTC0810.xyz processed.\n",
      "data/DMV0050_SZ/C08\\VTC0811.xyz processed.\n",
      "data/DMV0050_SZ/C08\\VTC0812.xyz processed.\n",
      "data/DMV0050_SZ/C08\\VTC0813.xyz processed.\n",
      "data/DMV0050_SZ/C08\\VTC0814.xyz processed.\n",
      "data/DMV0050_SZ/C08\\VTC0815.xyz processed.\n",
      "data/DMV0050_SZ/C08\\VTC0816.xyz processed.\n",
      "data/DMV0050_SZ/C08\\VTC0817.xyz processed.\n",
      "data/DMV0050_SZ/C08\\VTC0818.xyz processed.\n",
      "data/DMV0050_SZ/C08\\VTC0819.xyz processed.\n",
      "data/DMV0050_SZ/C08\\VTC0820.xyz processed.\n",
      "data/DMV0050_SZ/C08\\VTC0821.xyz processed.\n",
      "data/DMV0050_SZ/C08\\VTC0822.xyz processed.\n",
      "data/DMV0050_SZ/C08\\VTC0823.xyz processed.\n",
      "data/DMV0050_SZ/C08\\VTC0824.xyz processed.\n",
      "data/DMV0050_SZ/C08\\VTC0825.xyz processed.\n",
      "data/DMV0050_SZ/C08\\VTC0826.xyz processed.\n",
      "data/DMV0050_SZ/C08\\VTC0827.xyz processed.\n",
      "data/DMV0050_SZ/C08\\VTC0828.xyz processed.\n",
      "data/DMV0050_SZ/C08\\VTC0829.xyz processed.\n",
      "data/DMV0050_SZ/C08\\VTC0830.xyz processed.\n",
      "data/DMV0050_SZ/C08\\VTC0831.xyz processed.\n",
      "data/DMV0050_SZ/C08\\VTC0832.xyz processed.\n",
      "data/DMV0050_SZ/C08\\VTC0833.xyz processed.\n",
      "data/DMV0050_SZ/C08\\VTC0834.xyz processed.\n",
      "data/DMV0050_SZ/C08\\VTC0835.xyz processed.\n",
      "data/DMV0050_SZ/C08\\VTC0836.xyz processed.\n",
      "data/DMV0050_SZ/C08\\VTC0837.xyz processed.\n",
      "data/DMV0050_SZ/C08\\VTC0838.xyz processed.\n",
      "data/DMV0050_SZ/C08\\VTC0839.xyz processed.\n",
      "data/DMV0050_SZ/C08\\VTC0840.xyz processed.\n",
      "data/DMV0050_SZ/C08\\VTC0841.xyz processed.\n",
      "data/DMV0050_SZ/C08\\VTC0842.xyz processed.\n",
      "data/DMV0050_SZ/C08\\VTC0843.xyz processed.\n",
      "data/DMV0050_SZ/C08\\VTC0844.xyz processed.\n",
      "data/DMV0050_SZ/C08\\VTC0845.xyz processed.\n",
      "data/DMV0050_SZ/C08\\VTC0846.xyz processed.\n",
      "data/DMV0050_SZ/C08\\VTC0847.xyz processed.\n",
      "data/DMV0050_SZ/C08\\VTC0848.xyz processed.\n",
      "data/DMV0050_SZ/C08\\VTC0849.xyz processed.\n",
      "data/DMV0050_SZ/C08\\VTC0850.xyz processed.\n",
      "________________\n",
      "[[410000.  142000.    1553.5]\n",
      " [410005.  142000.    1550.1]\n",
      " [410010.  142000.    1546.6]\n",
      " ...\n",
      " [432485.  132995.     710. ]\n",
      " [432490.  132995.     710.9]\n",
      " [432495.  132995.     711.1]]\n"
     ]
    }
   ],
   "source": [
    "data = read_dmv_data_files(\"data/DMV0050_SZ/C08/\")\n",
    "print(\"________________\")\n",
    "print(data)"
   ]
  },
  {
   "cell_type": "code",
   "execution_count": 60,
   "metadata": {
    "tags": []
   },
   "outputs": [],
   "source": [
    "df = transform_coords(data)"
   ]
  },
  {
   "cell_type": "code",
   "execution_count": 61,
   "metadata": {},
   "outputs": [
    {
     "data": {
      "text/html": [
       "<div>\n",
       "<style scoped>\n",
       "    .dataframe tbody tr th:only-of-type {\n",
       "        vertical-align: middle;\n",
       "    }\n",
       "\n",
       "    .dataframe tbody tr th {\n",
       "        vertical-align: top;\n",
       "    }\n",
       "\n",
       "    .dataframe thead th {\n",
       "        text-align: right;\n",
       "    }\n",
       "</style>\n",
       "<table border=\"1\" class=\"dataframe\">\n",
       "  <thead>\n",
       "    <tr style=\"text-align: right;\">\n",
       "      <th></th>\n",
       "      <th>x</th>\n",
       "      <th>y</th>\n",
       "      <th>z</th>\n",
       "      <th>Lat</th>\n",
       "      <th>Lon</th>\n",
       "    </tr>\n",
       "  </thead>\n",
       "  <tbody>\n",
       "    <tr>\n",
       "      <th>0</th>\n",
       "      <td>410000.0</td>\n",
       "      <td>142000.0</td>\n",
       "      <td>1553.5</td>\n",
       "      <td>46.411696</td>\n",
       "      <td>13.829327</td>\n",
       "    </tr>\n",
       "    <tr>\n",
       "      <th>1</th>\n",
       "      <td>410005.0</td>\n",
       "      <td>142000.0</td>\n",
       "      <td>1550.1</td>\n",
       "      <td>46.411697</td>\n",
       "      <td>13.829392</td>\n",
       "    </tr>\n",
       "    <tr>\n",
       "      <th>2</th>\n",
       "      <td>410010.0</td>\n",
       "      <td>142000.0</td>\n",
       "      <td>1546.6</td>\n",
       "      <td>46.411698</td>\n",
       "      <td>13.829457</td>\n",
       "    </tr>\n",
       "    <tr>\n",
       "      <th>3</th>\n",
       "      <td>410015.0</td>\n",
       "      <td>142000.0</td>\n",
       "      <td>1543.2</td>\n",
       "      <td>46.411698</td>\n",
       "      <td>13.829522</td>\n",
       "    </tr>\n",
       "    <tr>\n",
       "      <th>4</th>\n",
       "      <td>410020.0</td>\n",
       "      <td>142000.0</td>\n",
       "      <td>1539.8</td>\n",
       "      <td>46.411699</td>\n",
       "      <td>13.829587</td>\n",
       "    </tr>\n",
       "  </tbody>\n",
       "</table>\n",
       "</div>"
      ],
      "text/plain": [
       "          x         y       z        Lat        Lon\n",
       "0  410000.0  142000.0  1553.5  46.411696  13.829327\n",
       "1  410005.0  142000.0  1550.1  46.411697  13.829392\n",
       "2  410010.0  142000.0  1546.6  46.411698  13.829457\n",
       "3  410015.0  142000.0  1543.2  46.411698  13.829522\n",
       "4  410020.0  142000.0  1539.8  46.411699  13.829587"
      ]
     },
     "execution_count": 61,
     "metadata": {},
     "output_type": "execute_result"
    }
   ],
   "source": [
    "df.head()"
   ]
  },
  {
   "cell_type": "code",
   "execution_count": 62,
   "metadata": {},
   "outputs": [
    {
     "data": {
      "text/plain": [
       "2864.7"
      ]
     },
     "execution_count": 62,
     "metadata": {},
     "output_type": "execute_result"
    }
   ],
   "source": [
    "df[\"z\"].max()"
   ]
  },
  {
   "cell_type": "code",
   "execution_count": 63,
   "metadata": {},
   "outputs": [],
   "source": [
    "# Robne kordinate lahko preprosto dobiš na OpenStreetMaps -> izvozi\n",
    "data = bbox_slice(df, bbox=(46.3746,46.3812,13.8365,13.8538))"
   ]
  },
  {
   "cell_type": "code",
   "execution_count": 64,
   "metadata": {},
   "outputs": [
    {
     "data": {
      "text/plain": [
       "array([[411775. , 137850. ,   2288.1],\n",
       "       [411780. , 137850. ,   2285. ],\n",
       "       [411785. , 137850. ,   2282.4],\n",
       "       ...,\n",
       "       [410645. , 138600. ,   2481.8],\n",
       "       [410650. , 138600. ,   2478.4],\n",
       "       [410655. , 138600. ,   2475. ]])"
      ]
     },
     "execution_count": 64,
     "metadata": {},
     "output_type": "execute_result"
    }
   ],
   "source": [
    "data"
   ]
  }
 ],
 "metadata": {
  "kernelspec": {
   "display_name": "Python 3 (ipykernel)",
   "language": "python",
   "name": "python3"
  },
  "language_info": {
   "codemirror_mode": {
    "name": "ipython",
    "version": 3
   },
   "file_extension": ".py",
   "mimetype": "text/x-python",
   "name": "python",
   "nbconvert_exporter": "python",
   "pygments_lexer": "ipython3",
   "version": "3.9.12"
  },
  "vscode": {
   "interpreter": {
    "hash": "d5a4a8acb43775dd075839190a799ee2b6abd3b3d130c4c8322de5a35404faed"
   }
  }
 },
 "nbformat": 4,
 "nbformat_minor": 4
}
